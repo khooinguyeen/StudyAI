{
 "cells": [
  {
   "attachments": {},
   "cell_type": "markdown",
   "metadata": {},
   "source": [
    "# I. Multiply matrices function"
   ]
  },
  {
   "cell_type": "code",
   "execution_count": 1,
   "metadata": {},
   "outputs": [],
   "source": [
    "def multiply_matrices(matrix1, matrix2):\n",
    "    rows1 = len(matrix1)\n",
    "    cols1 = len(matrix1[0])\n",
    "    rows2 = len(matrix2)\n",
    "    cols2 = len(matrix2[0])\n",
    "\n",
    "    if cols1 != rows2:\n",
    "        raise ValueError(\"Invalid dimensions for matrix multiplication\")\n",
    "\n",
    "    result = [[0] * cols2 for _ in range(rows1)]\n",
    "\n",
    "    for i in range(rows1):\n",
    "        for j in range(cols2):\n",
    "            for k in range(cols1):\n",
    "                result[i][j] += matrix1[i][k] * matrix2[k][j]\n",
    "\n",
    "    return result\n"
   ]
  },
  {
   "attachments": {},
   "cell_type": "markdown",
   "metadata": {},
   "source": [
    "# II. Example usage"
   ]
  },
  {
   "cell_type": "code",
   "execution_count": 3,
   "metadata": {},
   "outputs": [
    {
     "name": "stdout",
     "output_type": "stream",
     "text": [
      "[[4, 5, 6], [8, 10, 12], [12, 15, 18]]\n"
     ]
    }
   ],
   "source": [
    "print(\n",
    "    multiply_matrices(\n",
    "        matrix1=[[1], [2], [3]],\n",
    "        matrix2=[[4, 5, 6]]\n",
    "    )\n",
    ")\n"
   ]
  },
  {
   "cell_type": "code",
   "execution_count": 7,
   "metadata": {},
   "outputs": [
    {
     "name": "stdout",
     "output_type": "stream",
     "text": [
      "[[44]]\n"
     ]
    }
   ],
   "source": [
    "print(\n",
    "    multiply_matrices(\n",
    "        matrix1=[[1, 3, 5]],\n",
    "        matrix2=[[2], [4], [6]]\n",
    "    )\n",
    ")"
   ]
  },
  {
   "cell_type": "code",
   "execution_count": 8,
   "metadata": {},
   "outputs": [
    {
     "name": "stdout",
     "output_type": "stream",
     "text": [
      "[[9, 12, 15], [19, 26, 33], [29, 40, 51]]\n"
     ]
    }
   ],
   "source": [
    "print(\n",
    "    multiply_matrices(\n",
    "        matrix1=[[1, 2], [3, 4], [5, 6]],\n",
    "        matrix2=[[1, 2, 3], [4, 5, 6]]\n",
    "    )\n",
    ")"
   ]
  },
  {
   "attachments": {},
   "cell_type": "markdown",
   "metadata": {},
   "source": [
    "# III. Exercises"
   ]
  },
  {
   "cell_type": "code",
   "execution_count": 9,
   "metadata": {},
   "outputs": [
    {
     "name": "stdout",
     "output_type": "stream",
     "text": [
      "[[2, 4, 6], [6, 12, 18], [10, 20, 30]]\n"
     ]
    }
   ],
   "source": [
    "# (a)\n",
    "# [[a], [b], [c]] * [[d, e, f]] = [[a*d, a*e, a*f], [b*d, b*e, b*f], [c*d, c*e, c*f]]\n",
    "print(\n",
    "    multiply_matrices(\n",
    "        matrix1=[[1], [3], [5]],\n",
    "        matrix2=[[2, 4, 6]]\n",
    "    )\n",
    ")"
   ]
  },
  {
   "cell_type": "code",
   "execution_count": 11,
   "metadata": {},
   "outputs": [
    {
     "name": "stdout",
     "output_type": "stream",
     "text": [
      "[[44]]\n"
     ]
    }
   ],
   "source": [
    "# (b)\n",
    "# [[a, b, c]] * [[d], [e], [f]] = [[a*d + b*e + c*f]]\n",
    "print(\n",
    "    multiply_matrices(\n",
    "        matrix1=[[1, 3, 5]],\n",
    "        matrix2=[[2], [4], [6]]\n",
    "    )\n",
    ")\n"
   ]
  },
  {
   "cell_type": "code",
   "execution_count": 12,
   "metadata": {},
   "outputs": [
    {
     "name": "stdout",
     "output_type": "stream",
     "text": [
      "[[9, 12, 15], [19, 26, 33], [29, 40, 51]]\n"
     ]
    }
   ],
   "source": [
    "# (c)\n",
    "# [[a, b], [c, d], [e, f]] * [[g, h, i], [k, m, n]] \n",
    "# = [[a*g+b*k, a*h+b*m, a*i+b*n], [c*g+d*k, c*h+d*m, c*i+d*n], [e*g+f*k, e*h+f*m, e*i+f*n]]\n",
    "print(\n",
    "    multiply_matrices(\n",
    "        matrix1=[[1, 2], [3, 4], [5, 6]],\n",
    "        matrix2=[[1, 2, 3], [4, 5, 6]]\n",
    "    )\n",
    ")"
   ]
  },
  {
   "attachments": {},
   "cell_type": "markdown",
   "metadata": {},
   "source": [
    "(d)\n",
    "[[1 x1],                                  [[w1 + w2*x1],\n",
    " [1 x2],               [[w1],              [w1 + w2*x2],\n",
    " [1 x3],        *       [w2]]      =       [w1 + w2*x3],       \n",
    "  ...                                     ...\n",
    " [1 xn]]                                   [w1 + w2*xn]]"
   ]
  }
 ],
 "metadata": {
  "kernelspec": {
   "display_name": "base",
   "language": "python",
   "name": "python3"
  },
  "language_info": {
   "codemirror_mode": {
    "name": "ipython",
    "version": 3
   },
   "file_extension": ".py",
   "mimetype": "text/x-python",
   "name": "python",
   "nbconvert_exporter": "python",
   "pygments_lexer": "ipython3",
   "version": "3.10.9"
  },
  "orig_nbformat": 4
 },
 "nbformat": 4,
 "nbformat_minor": 2
}
