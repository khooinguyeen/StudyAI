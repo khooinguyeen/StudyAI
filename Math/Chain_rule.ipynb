{
 "cells": [
  {
   "attachments": {},
   "cell_type": "markdown",
   "metadata": {},
   "source": [
    ">Nếu $z=f(y)$ và $y = g(x)$ hay $z = f(g(x))$ thì $\\frac{dz}{dx}=\\frac{dz}{dy}∗\\frac{dy}{dx}$ \n",
    "\\\n",
    "\\\n",
    "Ví dụ cần tính đạo hàm $z(x) = (2x+1)^2$, có thể thấy $z = f(g(x))$ trong đó $f(x) = x^2$, $g(x) = 2x+1$. \\\n",
    "\\\n",
    "Do đó áp dụng chain rule ta có:$$\\frac{dz}{dx}=\\frac{dz}{dy}∗\\frac{dy}{dx}=\\frac{d(2x+1)^2}{d(2x+1)}∗\\frac{d(2x+1)}{dx}= 2 ∗ (2x+1) ∗ 2 = 4 ∗ (2x+1)$$\n",
    "\\\n",
    "Do đó:\n",
    ">$$\\frac{d(σ(x))}{dx}=\\frac{d(\\frac{1}{1+e^{−x}} )}{dx}=\\frac{−1}{(1+e^{−x})^2}∗ 1 ∗ e^{−x}∗ (−1) = \\frac{e^{−x}}{(1+e^{−x})^2}$$\n",
    ">$$=\\frac{1}{1+e^{−x}}∗\\frac{e^{−x}}{1+e^{−x}}=\\frac{1}{1+e^{−x}}∗ (1−\\frac{1}{1+e^{−x}}) = σ(x) ∗ (1−σ(x))$$ \n",
    "\n",
    "\n"
   ]
  }
 ],
 "metadata": {
  "language_info": {
   "name": "python"
  },
  "orig_nbformat": 4
 },
 "nbformat": 4,
 "nbformat_minor": 2
}
