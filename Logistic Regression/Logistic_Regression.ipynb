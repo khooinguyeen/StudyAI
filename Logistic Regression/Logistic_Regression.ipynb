{
 "cells": [
  {
   "attachments": {},
   "cell_type": "markdown",
   "metadata": {},
   "source": [
    "# I. Algorithm"
   ]
  },
  {
   "attachments": {},
   "cell_type": "markdown",
   "metadata": {},
   "source": [
    "$ p(x^{(i)}=1)=\\hat{y}_i $\n",
    "\n",
    "$p(x^{(i)}=0)=1-\\hat{y}_i$\n",
    "\n",
    "$=> p(x^{(i)}=1) + p(x^{(i)}=0)=1$\n",
    "\n",
    "Hàm sigmoid: $\\sigma(x)=\\frac{1}{1+e^{-x}}$\n",
    "\n",
    ">$$\\hat{y}_i=\\sigma(w_0+w_1*x_1^{(i)}+w_2*x_2^{(i)})=\\frac{1}{1+e^{-(w_0+w_1*x_1^{(i)}+w_2*x_2^{(i)})}}$$\n",
    "\n",
    "Loss Funtion (binary_crossentropy): \n",
    ">$$L = −(y_i ∗ log(\\hat{y}_i) + (1−y_i) ∗ log(1−\\hat{y}_i))$$\n",
    "\n",
    "Loss function trên toàn bộ dữ liệu: \n",
    ">$$J=\\frac{-1}{N} * \\sum{N}{i=1}(y_ilog(\\hat{y}_i)+(1-y_i)*log(1-\\hat{y}))$$"
   ]
  },
  {
   "attachments": {},
   "cell_type": "markdown",
   "metadata": {},
   "source": [
    "# II. Python code "
   ]
  },
  {
   "attachments": {},
   "cell_type": "markdown",
   "metadata": {},
   "source": [
    "### 1. Import libraries and define Sigmoid funtion"
   ]
  },
  {
   "cell_type": "code",
   "execution_count": 5,
   "metadata": {},
   "outputs": [],
   "source": [
    "import numpy as np\n",
    "import pandas as pd\n",
    "import matplotlib.pyplot as plt\n",
    "from sklearn.linear_model import LogisticRegression"
   ]
  },
  {
   "cell_type": "code",
   "execution_count": 2,
   "metadata": {},
   "outputs": [],
   "source": [
    "def sigmoid(x):\n",
    "    return 1 / (1 + np.exp(-x))"
   ]
  },
  {
   "attachments": {},
   "cell_type": "markdown",
   "metadata": {},
   "source": [
    "### 2. Load data from .csv file"
   ]
  },
  {
   "cell_type": "code",
   "execution_count": 3,
   "metadata": {},
   "outputs": [
    {
     "name": "stdout",
     "output_type": "stream",
     "text": [
      "[[10.    1.  ]\n",
      " [ 5.    2.  ]\n",
      " [ 6.    1.8 ]\n",
      " [ 7.    1.  ]\n",
      " [ 8.    2.  ]\n",
      " [ 9.    0.5 ]\n",
      " [ 4.    3.  ]\n",
      " [ 5.    2.5 ]\n",
      " [ 8.    1.  ]\n",
      " [ 4.    2.5 ]\n",
      " [ 8.    0.1 ]\n",
      " [ 7.    0.15]\n",
      " [ 4.    1.  ]\n",
      " [ 5.    0.8 ]\n",
      " [ 7.    0.3 ]\n",
      " [ 4.    1.  ]\n",
      " [ 5.    0.5 ]\n",
      " [ 6.    0.3 ]\n",
      " [ 7.    0.2 ]\n",
      " [ 8.    0.15]] \n",
      " \n",
      " [[1.]\n",
      " [1.]\n",
      " [1.]\n",
      " [1.]\n",
      " [1.]\n",
      " [1.]\n",
      " [1.]\n",
      " [1.]\n",
      " [1.]\n",
      " [1.]\n",
      " [0.]\n",
      " [0.]\n",
      " [0.]\n",
      " [0.]\n",
      " [0.]\n",
      " [0.]\n",
      " [0.]\n",
      " [0.]\n",
      " [0.]\n",
      " [0.]]\n"
     ]
    }
   ],
   "source": [
    "data = pd.read_csv('dataset.csv').values\n",
    "N, d = data.shape\n",
    "x = data[:, 0:d-1].reshape(-1, d-1)\n",
    "y = data[:, 2].reshape(-1, 1)\n",
    "print(x, '\\n', '\\n', y)"
   ]
  },
  {
   "cell_type": "code",
   "execution_count": null,
   "metadata": {},
   "outputs": [],
   "source": [
    "plt.scatter(x[:10, 0], x[:10, 1], c='red', edgecolors='none', s=30, label='cho vay')\n",
    "plt.scatter(x[10:, 0], x[10:, 1], c='blue', edgecolors='none', s=30, label='từ chối')\n",
    "plt.legend(loc=1)\n",
    "plt.xlabel('mức lương (triệu)')\n",
    "plt.ylabel('kinh nghiệm (năm)')"
   ]
  },
  {
   "cell_type": "code",
   "execution_count": null,
   "metadata": {},
   "outputs": [],
   "source": [
    "# Thêm một cột vào dữ liệu x\n",
    "x = np.hstack((np.ones((N, 1)), x))\n",
    "w = np.array([0., 0.1, 0.1]).reshape(-1, 1)\n",
    "print(x, '\\n', '\\n', w)"
   ]
  },
  {
   "cell_type": "code",
   "execution_count": null,
   "metadata": {},
   "outputs": [],
   "source": [
    "numOfIteration = 1000\n",
    "cost = np.zeros((numOfIteration, 1))\n",
    "learning_rate = 0.01\n"
   ]
  },
  {
   "cell_type": "code",
   "execution_count": null,
   "metadata": {},
   "outputs": [],
   "source": [
    "print(cost)"
   ]
  },
  {
   "attachments": {},
   "cell_type": "markdown",
   "metadata": {},
   "source": [
    "### 3. Train model"
   ]
  },
  {
   "attachments": {},
   "cell_type": "markdown",
   "metadata": {},
   "source": [
    "Hàm sigmoid: $\\sigma(x)=\\frac{1}{1+e^{-x}}$\n",
    "\n",
    ">$\\hat{y}_i=\\sigma(w_0+w_1*x_1^{(i)}+w_2*x_2^{(i)})=\\frac{1}{1+e^{-(w_0+w_1*x_1^{(i)}+w_2*x_2^{(i)})}}$\n",
    "\\\n",
    ">$\\hat{y}=\\sigma{(X * W)}$\n",
    "\n",
    "Loss funtion:\n",
    ">$J=-\\frac{1}{N}*sum(y⊗\\log{(\\hat{y})}+(1-y)⊗\\log{(1-\\hat{y})})$\n",
    "\n",
    "Weight:\n",
    ">$\\frac{dJ}{dw}=\\frac{1}{N}*X^T*(\\hat{y}-y)$"
   ]
  },
  {
   "cell_type": "code",
   "execution_count": null,
   "metadata": {},
   "outputs": [],
   "source": [
    "for i in range(1, numOfIteration):\n",
    "    # tính giá trị dự đoán\n",
    "    y_predict = sigmoid(np.dot(x, w))\n",
    "    cost[i] = -np.sum(np.multiply(y, np.log(y_predict)) + \\\n",
    "                      np.multiply(1-y, np.log(1-y_predict)))\n",
    "    \n",
    "    # np.dot là tích vô hướng còn np.multiply là element-wise multiplication\n",
    "    \n",
    "    # Gradient descent\n",
    "    w = w - learning_rate * np.dot(x.T, y_predict-y) # hoán vị của ma trận x nhân với y_pred - y\n",
    "    print(cost[i])"
   ]
  },
  {
   "cell_type": "code",
   "execution_count": null,
   "metadata": {},
   "outputs": [],
   "source": [
    "# Vẽ đường phân cách.\n",
    "t = 0.5\n",
    "plt.plot((4, 10),(-(w[0]+4*w[1]+ np.log(1/t-1))/w[2], -(w[0] + 10*w[1]+ \\\n",
    "np.log(1/t-1))/w[2]), 'g')\n",
    "plt.show()\n"
   ]
  },
  {
   "cell_type": "code",
   "execution_count": null,
   "metadata": {},
   "outputs": [],
   "source": [
    "# Lưu weight dùng numpy.save(), định dạng '.npy'\n",
    "np.save('weight logistic.npy', w)\n",
    "# Load weight từ file ''.npy'\n",
    "w = np.load('weight logistic.npy')\n"
   ]
  },
  {
   "attachments": {},
   "cell_type": "markdown",
   "metadata": {},
   "source": [
    "### 4. Logistic Regression using scikit-learn library"
   ]
  },
  {
   "cell_type": "code",
   "execution_count": 28,
   "metadata": {},
   "outputs": [
    {
     "data": {
      "image/png": "[encoded data removed]",
      "text/plain": [
       "<Figure size 640x480 with 1 Axes>"
      ]
     },
     "metadata": {},
     "output_type": "display_data"
    }
   ],
   "source": [
    "# Logistic Regression dùng thư viện sklearn\n",
    "from sklearn.linear_model import LogisticRegression\n",
    "# Load data từ file csv\n",
    "data = pd.read_csv('dataset.csv').values\n",
    "N, d = data.shape\n",
    "x = data[:, 0:d-1].reshape(-1, d-1)\n",
    "y = data[:, 2].reshape(-1, 1)\n",
    "# Vẽ data bằng scatter\n",
    "plt.scatter(x[:10, 0], x[:10, 1], c='red', edgecolors='none', s=30, label='cho vay')\n",
    "plt.scatter(x[10:, 0], x[10:, 1], c='blue', edgecolors='none', s=30, label='từ chối')\n",
    "plt.legend(loc=1)\n",
    "plt.xlabel('mức lương (triệu)')\n",
    "plt.ylabel('kinh nghiệm (năm)')\n",
    "# Tạo mô hình Logistic Regression và train\n",
    "y = y.ravel()\n",
    "logreg = LogisticRegression()\n",
    "logreg.fit(x, y)\n",
    "# Lưu các biến của mô hình vào mảng\n",
    "wg = np.zeros( (3, 1) )\n",
    "wg[0, 0] = logreg.intercept_\n",
    "wg[1:, 0] = logreg.coef_\n",
    "# Vẽ đường phân cách\n",
    "t = 0.5\n",
    "plt.plot((4, 10),(-(wg[0]+4*wg[1]+ np.log(1/t-1))/wg[2], \\\n",
    "-(wg[0] + 10*wg[1]+ np.log(1/t-1))/wg[2]), 'g')\n",
    "plt.show()"
   ]
  },
  {
   "attachments": {},
   "cell_type": "markdown",
   "metadata": {},
   "source": [
    "$$ y = -\\frac{{w_g[0] + w_x \\cdot w_g[1] + \\log(\\frac{1}{t-1})}}{{w_g[2]}} $$"
   ]
  },
  {
   "cell_type": "code",
   "execution_count": 21,
   "metadata": {},
   "outputs": [],
   "source": [
    "# Lưu các tham số dùng numpy.savez(), đỉnh dạng '.npz'\n",
    "np.savez('w logistic.npz', a=logreg.intercept_, b=logreg.coef_)"
   ]
  },
  {
   "cell_type": "code",
   "execution_count": 23,
   "metadata": {},
   "outputs": [
    {
     "name": "stdout",
     "output_type": "stream",
     "text": [
      "[-6.4390718] [[0.66716139 2.09426755]]\n"
     ]
    }
   ],
   "source": [
    "# Load các tham số dùng numpy.load(), file '.npz'\n",
    "k = np.load('w logistic.npz')\n",
    "logreg.intercept_ = k['a']\n",
    "logreg.coef_ = k['b']\n",
    "print(logreg.intercept_, logreg.coef_)"
   ]
  },
  {
   "cell_type": "code",
   "execution_count": 31,
   "metadata": {},
   "outputs": [
    {
     "name": "stdout",
     "output_type": "stream",
     "text": [
      "20\n"
     ]
    }
   ],
   "source": [
    "print(N)"
   ]
  }
 ],
 "metadata": {
  "kernelspec": {
   "display_name": "base",
   "language": "python",
   "name": "python3"
  },
  "language_info": {
   "codemirror_mode": {
    "name": "ipython",
    "version": 3
   },
   "file_extension": ".py",
   "mimetype": "text/x-python",
   "name": "python",
   "nbconvert_exporter": "python",
   "pygments_lexer": "ipython3",
   "version": "3.10.9"
  },
  "orig_nbformat": 4
 },
 "nbformat": 4,
 "nbformat_minor": 2
}
