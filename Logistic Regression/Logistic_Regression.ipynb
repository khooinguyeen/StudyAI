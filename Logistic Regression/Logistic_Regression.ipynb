{
 "cells": [
  {
   "attachments": {},
   "cell_type": "markdown",
   "metadata": {},
   "source": [
    "$ p(x^{(i)}=1)=\\hat{y}_i $\n",
    "\n",
    "$p(x^{(i)}=0)=1-\\hat{y}_i$\n",
    "\n",
    "$=> p(x^{(i)}=1) + p(x^{(i)}=0)=1$\n",
    "\n",
    "Hàm sigmoid: $\\sigma(x)=\\frac{1}{1+e^{-x}}$\n",
    "\n",
    ">$$\\hat{y}_i=\\sigma(w_0+w_1*x_1^{(i)}+w_2*x_2^{(i)})=\\frac{1}{1+e^{-(w_0+w_1*x_1^{(i)}+w_2*x_2^{(i)})}}$$\n",
    "\n",
    "Loss Funtion (binary_crossentropy): \n",
    ">$$L = −(y_i ∗ log(\\hat{y}_i) + (1−y_i) ∗ log(1−\\hat{y}_i))$$\n",
    "\n",
    "Loss function trên toàn bộ dữ liệu: \n",
    ">$$J=\\frac{-1}{N} * \\sum{N}{i=1}(y_ilog(\\hat{y}_i)+(1-y_i)*log(1-\\hat{y}))$$"
   ]
  },
  {
   "cell_type": "markdown",
   "metadata": {},
   "source": []
  }
 ],
 "metadata": {
  "kernelspec": {
   "display_name": "base",
   "language": "python",
   "name": "python3"
  },
  "language_info": {
   "name": "python",
   "version": "3.10.9"
  },
  "orig_nbformat": 4
 },
 "nbformat": 4,
 "nbformat_minor": 2
}
