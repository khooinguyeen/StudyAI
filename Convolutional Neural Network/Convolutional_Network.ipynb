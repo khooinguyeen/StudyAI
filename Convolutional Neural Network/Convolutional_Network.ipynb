{
 "cells": [
  {
   "attachments": {},
   "cell_type": "markdown",
   "metadata": {},
   "source": [
    "## 1. Convolutional Layer"
   ]
  },
  {
   "attachments": {},
   "cell_type": "markdown",
   "metadata": {},
   "source": [
    "Giả sử input của 1 convolutional layer tổng quát là tensor kích thước H * W * D.\n",
    "\n",
    "Kernel có kích thước F * F * D (kernel luôn có depth bằng depth của input và F là số lẻ),\n",
    "stride: S, padding: P.\n",
    "\n",
    "Convolutional layer áp dụng K kernel.\n",
    "\n",
    "=> Output của layer là tensor 3 chiều có kích thước: \n",
    "$$(\\frac{H-F+2P}{S}+1)*(\\frac{W-F+2P}{S}+1)*K$$\n",
    "\n",
    "Lưu ý:\n",
    "\n",
    ">• Output của convolutional layer sẽ qua hàm non-linear activation function trước khi trở thành\n",
    "input của convolutional layer tiếp theo.\n",
    "\n",
    ">• Tổng số parameter của layer: Mỗi kernel có kích thước $F*F*D$ và có 1 hệ số bias, nên tổng\n",
    "parameter của 1 kernel là   \n",
    "$F*F*D + 1$. Mà convolutional layer áp dụng K kernel => Tổng số\n",
    "parameter trong layer này là $K * (F*F*D + 1)$\n"
   ]
  },
  {
   "attachments": {},
   "cell_type": "markdown",
   "metadata": {},
   "source": [
    "## 2. Pooling Layer"
   ]
  },
  {
   "attachments": {},
   "cell_type": "markdown",
   "metadata": {},
   "source": [
    "Gọi pooling size kích thước $K*K$. Input của pooling layer có kích thước $H*W*D$, ta tách ra\n",
    "làm D ma trận kích thước $H*W$. Với mỗi ma trận, trên vùng kích thước $K*K$ trên ma trận ta tìm\n",
    "maximum hoặc average của dữ liệu rồi viết vào ma trận kết quả. Quy tắc về stride và padding áp\n",
    "dụng như phép tính convolution trên ảnh.\n",
    "\n",
    "Có 2 loại pooling layer phổ biến là: \n",
    "- <b> max pooling </b>: max value of K*K matrix\n",
    "- <b> average pooling </b>: average value of K*K matrix\n",
    "\n",
    "<b> Trong một số model người ta dùng convolutional layer với stride > 1 để giảm kích thước dữ\n",
    "liệu thay cho pooling layer. </b> "
   ]
  },
  {
   "attachments": {},
   "cell_type": "markdown",
   "metadata": {},
   "source": [
    "# 3. Fully connected layer"
   ]
  },
  {
   "attachments": {},
   "cell_type": "markdown",
   "metadata": {},
   "source": [
    "Sau khi ảnh được truyền qua nhiều convolutional layer và pooling layer thì model đã học được\n",
    "tương đối các đặc điểm của ảnh (ví dụ mắt, mũi, khung mặt,...) thì tensor của output của layer cuối cùng, kích thước $H*W*D$, sẽ được chuyển về 1 vector kích thước $(H*W*D, 1)$\n",
    "\n",
    "Sau đó ta dùng các fully connected layer để kết hợp các đặc điểm của ảnh để ra được output của\n",
    "model."
   ]
  }
 ],
 "metadata": {
  "kernelspec": {
   "display_name": "base",
   "language": "python",
   "name": "python3"
  },
  "language_info": {
   "name": "python",
   "version": "3.10.9"
  },
  "orig_nbformat": 4
 },
 "nbformat": 4,
 "nbformat_minor": 2
}
