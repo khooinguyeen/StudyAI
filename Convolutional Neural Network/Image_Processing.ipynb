{
 "cells": [
  {
   "attachments": {},
   "cell_type": "markdown",
   "metadata": {},
   "source": [
    "Khi chuyển từ ảnh màu sang ảnh xám ta có thể dùng công thức: \n",
    ">$x = r * 0.299 + g * 0.587 + b * 0.114$\n"
   ]
  }
 ],
 "metadata": {
  "language_info": {
   "name": "python"
  },
  "orig_nbformat": 4
 },
 "nbformat": 4,
 "nbformat_minor": 2
}
